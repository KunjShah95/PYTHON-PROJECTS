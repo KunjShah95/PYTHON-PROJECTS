{
  "nbformat": 4,
  "nbformat_minor": 0,
  "metadata": {
    "colab": {
      "provenance": []
    },
    "kernelspec": {
      "name": "python3",
      "display_name": "Python 3"
    },
    "language_info": {
      "name": "python"
    }
  },
  "cells": [
    {
      "cell_type": "code",
      "execution_count": null,
      "metadata": {
        "id": "oF925AQkx7Zd"
      },
      "outputs": [],
      "source": [
        "pip install scikit-learn"
      ]
    },
    {
      "cell_type": "markdown",
      "source": [],
      "metadata": {
        "id": "QZ3q4Brf0UXJ"
      }
    },
    {
      "cell_type": "code",
      "source": [
        "pip install nltk"
      ],
      "metadata": {
        "id": "Nke4gY3e0aMl"
      },
      "execution_count": null,
      "outputs": []
    },
    {
      "cell_type": "code",
      "source": [
        "import numpy as np\n",
        "import pandas as pd\n",
        "from sklearn.feature_extraction import text\n",
        "from sklearn.metrics.pairwise import cosine_similarity"
      ],
      "metadata": {
        "id": "JlXZiVHe0Z4z"
      },
      "execution_count": 40,
      "outputs": []
    },
    {
      "cell_type": "code",
      "source": [
        "netflix_df = pd.read_csv(\"netflixData.csv\")\n",
        "print(netflix_df.head())"
      ],
      "metadata": {
        "id": "4WzeekmN0h3E"
      },
      "execution_count": null,
      "outputs": []
    },
    {
      "cell_type": "code",
      "source": [
        "print(netflix_df.isnull())"
      ],
      "metadata": {
        "id": "RD985teW2F_h"
      },
      "execution_count": null,
      "outputs": []
    },
    {
      "cell_type": "code",
      "source": [
        "netflix_df.info()"
      ],
      "metadata": {
        "id": "wxQ7bRoP2em5"
      },
      "execution_count": null,
      "outputs": []
    },
    {
      "cell_type": "code",
      "source": [
        "print(netflix_df.isnull().sum())"
      ],
      "metadata": {
        "id": "2hA7iUr71ssk"
      },
      "execution_count": null,
      "outputs": []
    },
    {
      "cell_type": "code",
      "source": [
        " required_nf_df = netflix_df[[\"Title\", \"Description\", \"Content Type\", \"Genres\"  ]]\n",
        "required_nf_df.head()"
      ],
      "metadata": {
        "id": "KcS5E6Mx1_DF"
      },
      "execution_count": null,
      "outputs": []
    },
    {
      "cell_type": "code",
      "source": [
        "required_nf_df.count()"
      ],
      "metadata": {
        "id": "yWtn6Hv96nir"
      },
      "execution_count": null,
      "outputs": []
    },
    {
      "cell_type": "code",
      "source": [
        "# Data cleaning, let's drop the rows containing the null values\n",
        "required_nf_df.dropna()"
      ],
      "metadata": {
        "id": "tPdePew16sGs"
      },
      "execution_count": null,
      "outputs": []
    },
    {
      "cell_type": "code",
      "source": [
        "required_nf_df.count()"
      ],
      "metadata": {
        "id": "k87REMEj6wPZ"
      },
      "execution_count": null,
      "outputs": []
    },
    {
      "cell_type": "code",
      "source": [
        "#Cleaning the title column\n",
        "import nltk\n",
        "import re"
      ],
      "metadata": {
        "id": "-Y5cytTE6y4K"
      },
      "execution_count": 49,
      "outputs": []
    },
    {
      "cell_type": "code",
      "source": [
        "nltk.download('stopwords')\n",
        "stemmer = nltk.SnowballStemmer(\"english\")\n",
        "from nltk.corpus import stopwords\n",
        "import string\n",
        "stopword=set(stopwords.words('english'))"
      ],
      "metadata": {
        "colab": {
          "base_uri": "https://localhost:8080/"
        },
        "id": "BdhvxIZl62SV",
        "outputId": "e097d236-9cba-4a5a-9994-d375eaa6ad84"
      },
      "execution_count": 50,
      "outputs": [
        {
          "output_type": "stream",
          "name": "stderr",
          "text": [
            "[nltk_data] Downloading package stopwords to /root/nltk_data...\n",
            "[nltk_data]   Package stopwords is already up-to-date!\n"
          ]
        }
      ]
    },
    {
      "cell_type": "code",
      "source": [
        "def clean(text):\n",
        "    text = str(text).lower()\n",
        "    text = re.sub('\\[.*?\\]', '', text)\n",
        "    text = re.sub('https?://\\S+|www\\.\\S+', '', text)\n",
        "    text = re.sub('<.*?>+', '', text)\n",
        "    text = re.sub('[%s]' % re.escape(string.punctuation), '', text)\n",
        "    text = re.sub('\\n', '', text)\n",
        "    text = re.sub('\\w*\\d\\w*', '', text)\n",
        "    text = [word for word in text.split(' ') if word not in stopword]\n",
        "    text=\" \".join(text)\n",
        "    text = [stemmer.stem(word) for word in text.split(' ')]\n",
        "    text=\" \".join(text)\n",
        "    return text"
      ],
      "metadata": {
        "id": "p_bnUUJX640J"
      },
      "execution_count": 51,
      "outputs": []
    },
    {
      "cell_type": "code",
      "source": [
        "required_nf_df[\"Title\"] = required_nf_df[\"Title\"].apply(clean)"
      ],
      "metadata": {
        "id": "I3WUchZ_6-hO"
      },
      "execution_count": null,
      "outputs": []
    },
    {
      "cell_type": "code",
      "source": [
        "print(required_nf_df[\"Title\"])"
      ],
      "metadata": {
        "id": "Eq3k4xxq7Exr"
      },
      "execution_count": null,
      "outputs": []
    },
    {
      "cell_type": "code",
      "source": [
        "print(required_nf_df.Title.sample(10))"
      ],
      "metadata": {
        "id": "8o_Jj82A7W2l"
      },
      "execution_count": null,
      "outputs": []
    },
    {
      "cell_type": "code",
      "source": [
        "genreList = required_nf_df[\"Genres\"].tolist()\n",
        "#tfidf = text.TfidfVectorizer(input=genreList, stop_words=\"english\")\n",
        "tfidf = text.TfidfVectorizer(stop_words=\"english\")\n",
        "tfidf_matrix = tfidf.fit_transform(genreList)\n",
        "similarity = cosine_similarity(tfidf_matrix)"
      ],
      "metadata": {
        "id": "9S-KVSTt7cZJ"
      },
      "execution_count": 55,
      "outputs": []
    },
    {
      "cell_type": "code",
      "source": [
        "indices = pd.Series(required_nf_df.index, index=required_nf_df['Title']).drop_duplicates()"
      ],
      "metadata": {
        "id": "G4zNSMBT7epq"
      },
      "execution_count": 56,
      "outputs": []
    },
    {
      "cell_type": "code",
      "source": [
        "def netFlix_recommendation(title, similarity = similarity):\n",
        "    index = indices[title]\n",
        "    similarity_scores = list(enumerate(similarity[index]))\n",
        "    similarity_scores = sorted(similarity_scores, key=lambda x: x[1], reverse=True)\n",
        "    similarity_scores = similarity_scores[0:10]\n",
        "    movieindices = [i[0] for i in similarity_scores]\n",
        "    return required_nf_df['Title'].iloc[movieindices]"
      ],
      "metadata": {
        "id": "aQvAFw-a7iMQ"
      },
      "execution_count": 57,
      "outputs": []
    },
    {
      "cell_type": "code",
      "source": [
        "print(netFlix_recommendation(\"fitoor\"))"
      ],
      "metadata": {
        "id": "Ki_iwJmP7ldw"
      },
      "execution_count": null,
      "outputs": []
    }
  ]
}